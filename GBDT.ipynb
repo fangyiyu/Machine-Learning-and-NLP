{
 "cells": [
  {
   "cell_type": "code",
   "execution_count": 2,
   "metadata": {},
   "outputs": [],
   "source": [
    "from __future__ import division, print_function\n",
    "import numpy as np\n",
    "from sklearn.metrics import mean_squared_error\n",
    "from sklearn.model_selection import train_test_split\n",
    "from sklearn.preprocessing import OneHotEncoder\n",
    "\n",
    "from utils.loss_functions import SquareLoss, CrossEntropy, SotfMaxLoss\n",
    "from decision_tree.decision_tree_model import RegressionTree\n",
    "from utils import calculate_entropy, accuracy_score, calculate_variance"
   ]
  },
  {
   "cell_type": "code",
   "execution_count": 3,
   "metadata": {},
   "outputs": [],
   "source": [
    "class GBDT(object):\n",
    "    \"\"\"Super class of GradientBoostingClassifier and GradientBoostinRegressor.\n",
    "    Uses a collection of regression trees that trains on predicting the gradient\n",
    "    of the loss function.\n",
    "    Parameters:\n",
    "    -----------\n",
    "    n_estimators: int\n",
    "        The number of trees that are used.\n",
    "    learning_rate: float\n",
    "    min_samples_split: int\n",
    "        The minimum number of samples needed to make a split when building a tree.\n",
    "    min_impurity: float\n",
    "        The minimum impurity required to split the tree further.\n",
    "    max_depth: int\n",
    "        The maximum depth of a tree.\n",
    "    regression: boolean\n",
    "        True or false depending on if we're doing regression or classification.\n",
    "    \"\"\"\n",
    "\n",
    "    def __init__(self, n_estimators, learning_rate, min_samples_split,\n",
    "                 min_impurity, max_depth, regression):\n",
    "\n",
    "        self.n_estimators = n_estimators\n",
    "        self.learning_rate = learning_rate\n",
    "        self.min_samples_split = min_samples_split\n",
    "        self.min_impurity = min_impurity\n",
    "        self.max_depth = max_depth\n",
    "        self.regression = regression\n",
    "\n",
    "        self.loss = SquareLoss()\n",
    "        if not self.regression:\n",
    "            self.loss = SotfMaxLoss()\n",
    "\n",
    "        # Using regression tree for classification problems, using bias for learning\n",
    "        self.trees = []\n",
    "        for i in range(self.n_estimators):\n",
    "            self.trees.append(RegressionTree(min_samples_split=self.min_samples_split,\n",
    "                                             min_impurity=self.min_impurity,\n",
    "                                             max_depth=self.max_depth))\n",
    "\n",
    "    def fit(self, X, y):\n",
    "        # Fit the model using the first tree\n",
    "        self.trees[0].fit(X, y)\n",
    "        y_pred = self.trees[0].predict(X)\n",
    "        # Using each tree to learn the bias of the previous tree\n",
    "        for i in range(1, self.n_estimators):\n",
    "            gradient = self.loss.gradient(y, y_pred)\n",
    "            self.trees[i].fit(X, gradient)\n",
    "            y_pred -= np.multiply(self.learning_rate, self.trees[i].predict(X))\n",
    "\n",
    "    def predict(self, X):\n",
    "        y_pred = self.trees[0].predict(X)\n",
    "        for i in range(1, self.n_estimators):\n",
    "            y_pred -= np.multiply(self.learning_rate, self.trees[i].predict(X))\n",
    "\n",
    "        if not self.regression:\n",
    "            # Turn into probability distribution\n",
    "            y_pred = np.exp(y_pred) / np.expand_dims(np.sum(np.exp(y_pred), axis=1), axis=1)\n",
    "            # Set label to the value that maximizes probability\n",
    "            y_pred = np.argmax(y_pred, axis=1)\n",
    "        return y_pred"
   ]
  },
  {
   "cell_type": "code",
   "execution_count": 4,
   "metadata": {},
   "outputs": [],
   "source": [
    "class GBDTRegressor(GBDT):\n",
    "    def __init__(self, n_estimators=200, learning_rate=0.5, min_samples_split=2,\n",
    "                 min_var_red=1e-7, max_depth=4, debug=False):\n",
    "        super(GBDTRegressor, self).__init__(n_estimators=n_estimators,\n",
    "                                            learning_rate=learning_rate,\n",
    "                                            min_samples_split=min_samples_split,\n",
    "                                            min_impurity=min_var_red,\n",
    "                                            max_depth=max_depth,\n",
    "                                            regression=True)"
   ]
  },
  {
   "cell_type": "code",
   "execution_count": 5,
   "metadata": {},
   "outputs": [],
   "source": [
    "class GBDTClassifier(GBDT):\n",
    "    def __init__(self, n_estimators=200, learning_rate=.5, min_samples_split=2,\n",
    "                 min_info_gain=1e-7, max_depth=2, debug=False):\n",
    "        super(GBDTClassifier, self).__init__(n_estimators=n_estimators,\n",
    "                                             learning_rate=learning_rate,\n",
    "                                             min_samples_split=min_samples_split,\n",
    "                                             min_impurity=min_info_gain,\n",
    "                                             max_depth=max_depth,\n",
    "                                             regression=False)\n",
    "\n",
    "    def fit(self, X, y):\n",
    "        y = to_categorical(y)\n",
    "        super(GBDTClassifier, self).fit(X, y)\n"
   ]
  },
  {
   "cell_type": "code",
   "execution_count": null,
   "metadata": {},
   "outputs": [],
   "source": []
  }
 ],
 "metadata": {
  "kernelspec": {
   "display_name": "Python 3",
   "language": "python",
   "name": "python3"
  },
  "language_info": {
   "codemirror_mode": {
    "name": "ipython",
    "version": 3
   },
   "file_extension": ".py",
   "mimetype": "text/x-python",
   "name": "python",
   "nbconvert_exporter": "python",
   "pygments_lexer": "ipython3",
   "version": "3.7.3"
  }
 },
 "nbformat": 4,
 "nbformat_minor": 2
}

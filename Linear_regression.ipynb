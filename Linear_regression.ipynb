{
 "cells": [
  {
   "cell_type": "code",
   "execution_count": 1,
   "metadata": {},
   "outputs": [],
   "source": [
    "import numpy as np\n",
    "import pandas as pd\n",
    "import matplotlib.pyplot as plt\n",
    "# Generate a random regression problem\n",
    "from sklearn.datasets import make_regression\n",
    "from sklearn.model_selection import train_test_split\n",
    "from sklearn.metrics import mean_squared_error"
   ]
  },
  {
   "cell_type": "code",
   "execution_count": 9,
   "metadata": {},
   "outputs": [],
   "source": [
    "\"L1 norm\"\n",
    "class l1_regularization():\n",
    "    def __init__(self, alpha):\n",
    "        self.alpha = alpha\n",
    "    def __call__(self, w):\n",
    "        loss = np.sum(np.fabs(w)) \n",
    "        return self.alpha*loss\n",
    "    # The gradient of the L1 norm\n",
    "    def grad(self, w):\n",
    "        return self.alpha*np.sign(w)"
   ]
  },
  {
   "cell_type": "code",
   "execution_count": 10,
   "metadata": {},
   "outputs": [],
   "source": [
    "\"L2 norm\"\n",
    "class l2_regularization():\n",
    "    def __init__(self, alpha):\n",
    "        self.alpha = alpha\n",
    "    def __call__(self, w):\n",
    "        loss = w.T.dot(w)\n",
    "        return self.alpha*0.5*float(loss)\n",
    "    # The gradient of L2 norm\n",
    "    def grad(self, w):\n",
    "        return self.alpha*w"
   ]
  },
  {
   "cell_type": "code",
   "execution_count": 14,
   "metadata": {},
   "outputs": [],
   "source": [
    "# Define the LR model\n",
    "class LinearRegression():\n",
    "    \"\"\"Parameters:\n",
    "    n_iterations: int, the iterations for gradient descent\n",
    "    learning_rate: float\n",
    "    regularization: l1_regularization or l2_regularization or None\n",
    "    gradient: bool, whether to use gradient descent or normal equation. If using regularization, then we can only use gradient descent\n",
    "    \"\"\"\n",
    "    def __init__(self, n_iterations=1000, learning_rate=0.001, regularization=None, gradient=True):\n",
    "        self.n_iterations = n_iterations\n",
    "        self.learning_rate = learning_rate\n",
    "        self.gradient = gradient\n",
    "        if regularization == None:\n",
    "            self.regularization = lambda x: 0\n",
    "            self.regularization.grad = lambda x: 0\n",
    "        else:\n",
    "            self.regularization = regularization\n",
    "        \n",
    "    def initialize_weights(self, n_features):\n",
    "        limit = np.sqrt(1/n_features)\n",
    "        w = np.random.uniform(-limit, limit, (n_features, 1))\n",
    "        b = 0\n",
    "        self.w = np.insert(w, 0, b, axis=0)\n",
    "    \n",
    "    def fit(self, X, y):\n",
    "        m_sample, n_features = X.shape\n",
    "        self.initialize_weights(n_features)\n",
    "        X = np.insert(X, 0, 1, axis = 1)\n",
    "        y = np.reshape(y, (m_sample, 1))\n",
    "        self.training_loss = []\n",
    "        if self.gradient == True:\n",
    "            for i in range(self.n_iterations):\n",
    "                y_pred = X.dot(self.w)\n",
    "                loss = np.mean(0.5*(y-y_pred)**2)+self.regularization(self.w)\n",
    "                self.training_loss.append(loss)\n",
    "                # Calculate the gradient using (y_pred-y)*X\n",
    "                w_grad = X.T.dot(y_pred-y)+self.regularization.grad(self.w)\n",
    "                # Update the weights\n",
    "                self.w = self.w - self.learning_rate*w_grad\n",
    "        else:\n",
    "            # Normal equation using (X.T*X).I*X.T*y\n",
    "            X = np.matrix(X)\n",
    "            y = np.matrix(y)\n",
    "            self.w = X.T.dot(X).I.dot(X.T).dot(y)\n",
    "            \n",
    "    def predit(self, X):\n",
    "        X = np.insert(X, 0, 1, axis=1)\n",
    "        y_pred = np.dot(X, self.w)\n",
    "        return y_pred    "
   ]
  },
  {
   "cell_type": "code",
   "execution_count": 17,
   "metadata": {},
   "outputs": [
    {
     "name": "stdout",
     "output_type": "stream",
     "text": [
      "Mean squared error: 441.02963356809175\n"
     ]
    }
   ],
   "source": [
    "def main():\n",
    "    X, y = make_regression(n_samples=100, n_features=1, noise=20)\n",
    "    X_train, X_test, y_train, y_test = train_test_split(X, y, test_size=0.4)\n",
    "    n_sample, n_features = np.shape(X)\n",
    "    \n",
    "    model = LinearRegression(n_iterations=2000, learning_rate=0.005, regularization=l1_regularization(alpha=0.5), gradient=True)\n",
    "    model.fit(X_train, y_train)\n",
    "    \n",
    "    y_pred = model.predit(X_test)\n",
    "    y_pred = np.reshape(y_pred, y_test.shape)\n",
    "    \n",
    "    mse = mean_squared_error(y_test, y_pred)\n",
    "    print('Mean squared error:', mse)\n",
    "    #print(y_pred)\n",
    "    \n",
    "if __name__ == '__main__':\n",
    "    main()"
   ]
  },
  {
   "cell_type": "code",
   "execution_count": null,
   "metadata": {},
   "outputs": [],
   "source": []
  }
 ],
 "metadata": {
  "kernelspec": {
   "display_name": "Python 3",
   "language": "python",
   "name": "python3"
  },
  "language_info": {
   "codemirror_mode": {
    "name": "ipython",
    "version": 3
   },
   "file_extension": ".py",
   "mimetype": "text/x-python",
   "name": "python",
   "nbconvert_exporter": "python",
   "pygments_lexer": "ipython3",
   "version": "3.7.3"
  }
 },
 "nbformat": 4,
 "nbformat_minor": 2
}

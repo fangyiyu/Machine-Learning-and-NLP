{
 "cells": [
  {
   "cell_type": "code",
   "execution_count": 1,
   "metadata": {},
   "outputs": [],
   "source": [
    "import numpy as np\n",
    "from sklearn.metrics.pairwise import euclidean_distances\n",
    "import matplotlib.pyplot as plt\n",
    "from sklearn import datasets, preprocessing\n",
    "from sklearn.model_selection import train_test_split\n",
    "from sklearn.metrics import accuracy_score"
   ]
  },
  {
   "cell_type": "code",
   "execution_count": 2,
   "metadata": {},
   "outputs": [],
   "source": [
    "class KNN():\n",
    "    def __init__(self, k=5):\n",
    "        self.k = k\n",
    "        \n",
    "    def predict(self, X_test, X_train, y_train):\n",
    "        y_predict = np.zeros(X_test.shape[0])\n",
    "        \n",
    "        for i in range(X_test.shape[0]):\n",
    "            # Initialize the distances matrix\n",
    "            distances = np.zeros(X_train.shape[0], 2)\n",
    "            \n",
    "            for j in range(X_train.shape[0]):\n",
    "                # Calculate the eucliean distance\n",
    "                dis = euclidean_distances(X_test[i], X_train[j])\n",
    "                # The corresponding label\n",
    "                label = y_train[j]\n",
    "                # Add the distance and the corresponding label pair to the matrix\n",
    "                distances[j] = [dis, label]\n",
    "                \n",
    "                # Sort the distances and get the closest k nearest neighbors\n",
    "                knns = distances[distances[:, 0].argsort()][:self.k]\n",
    "                \n",
    "                # Count the frequency of labels in the nearest neighbors\n",
    "                counts = np.bincount(knns[:, 1].astype('int'))\n",
    "                \n",
    "                # Asign the most frequent label to the testing data\n",
    "                testLabel = counts.argmax()\n",
    "                y_predict[i] = testLabel\n",
    "                \n",
    "        return y_predict"
   ]
  },
  {
   "cell_type": "code",
   "execution_count": 3,
   "metadata": {},
   "outputs": [],
   "source": [
    "def main():\n",
    "    data = datasets.load_iris()\n",
    "    X = preprocessing.normalize(data.data)\n",
    "    y = data.target\n",
    "    X_train, X_test, y_train, y_test = train_test_split(X, y, test_size=0.33)\n",
    "    \n",
    "    # Initilize KNN\n",
    "    model = KNN(k=5)\n",
    "    y_pred = model.predict(X_test, X_train, y_train)\n",
    "    accuracy = accuracy_score(y_test, y_pred)\n",
    "    \n",
    "    print('Accuracy:', accuracy)\n",
    "    \n",
    "    \n",
    "#if __name__ == '__main__':\n",
    "    #main()"
   ]
  },
  {
   "cell_type": "code",
   "execution_count": null,
   "metadata": {},
   "outputs": [],
   "source": []
  }
 ],
 "metadata": {
  "kernelspec": {
   "display_name": "Python 3",
   "language": "python",
   "name": "python3"
  },
  "language_info": {
   "codemirror_mode": {
    "name": "ipython",
    "version": 3
   },
   "file_extension": ".py",
   "mimetype": "text/x-python",
   "name": "python",
   "nbconvert_exporter": "python",
   "pygments_lexer": "ipython3",
   "version": "3.7.3"
  }
 },
 "nbformat": 4,
 "nbformat_minor": 2
}

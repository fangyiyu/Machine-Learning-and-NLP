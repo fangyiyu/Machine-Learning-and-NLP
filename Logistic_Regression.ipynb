{
 "cells": [
  {
   "cell_type": "code",
   "execution_count": 1,
   "metadata": {},
   "outputs": [],
   "source": [
    "import numpy as np\n",
    "from sklearn import datasets, preprocessing\n",
    "from sklearn.model_selection import train_test_split\n",
    "from sklearn.metrics import accuracy_score"
   ]
  },
  {
   "cell_type": "code",
   "execution_count": 2,
   "metadata": {},
   "outputs": [],
   "source": [
    "def sigmoid(x):\n",
    "    return 1/(1+np.exp(-x))"
   ]
  },
  {
   "cell_type": "code",
   "execution_count": 11,
   "metadata": {},
   "outputs": [],
   "source": [
    "class LogisticRegression():\n",
    "    \"\"\"Parameters:\n",
    "    n_iterations: int, number of iterations\n",
    "    learning_rate: float\n",
    "    \"\"\"\n",
    "    def __init__(self, learning_rate=0.1, n_iterations = 4000):\n",
    "        self.learning_rate = learning_rate\n",
    "        self.n_iterations = n_iterations\n",
    "        \n",
    "    def initialize_weights(self, n_features):\n",
    "        limit = np.sqrt(1/n_features)\n",
    "        w = np.random.uniform(-limit, limit, (n_features,1))\n",
    "        b = 0\n",
    "        self.w = np.insert(w, 0, b, axis = 0)\n",
    "        \n",
    "    def fit(self, X, y):\n",
    "        m_samples, n_features = X.shape\n",
    "        self.initialize_weights(n_features)\n",
    "        # Add one feature x0 to X, where all the entries in x0 are 1\n",
    "        X = np.insert(X, 0, 1, axis = 1)\n",
    "        y = np.reshape(y, (m_samples, 1))\n",
    "        \n",
    "        # Gradient descent for n_iterations\n",
    "        for i in range(self.n_iterations):\n",
    "            h_x = X.dot(self.w)\n",
    "            y_pred = sigmoid(h_x)\n",
    "            w_grad = X.T.dot(y_pred - y)\n",
    "            self.w -= self.learning_rate*w_grad\n",
    "    \n",
    "    def predit(self, X):\n",
    "        # Set threshold to 0.5\n",
    "        X = np.insert(X, 0, 1,axis = 1)\n",
    "        h_x = X.dot(self.w)\n",
    "        return (np.round(sigmoid(h_x))).astype(int)\n"
   ]
  },
  {
   "cell_type": "code",
   "execution_count": 23,
   "metadata": {},
   "outputs": [
    {
     "name": "stdout",
     "output_type": "stream",
     "text": [
      "The accuracy is: 0.9696969696969697\n"
     ]
    }
   ],
   "source": [
    "def main():\n",
    "    data = datasets.load_iris()\n",
    "    # Turn the Iris classification to binary\n",
    "    X = preprocessing.normalize(data.data[data.target!=0])\n",
    "    y = data.target[data.target != 0]\n",
    "    y[y == 1] = 0\n",
    "    y[y == 2] = 1\n",
    "    X_train, X_test, y_train, y_test = train_test_split(X, y, test_size=0.33)\n",
    "    \n",
    "    clf = LogisticRegression()\n",
    "    clf.fit(X_train, y_train)\n",
    "    y_pred = clf.predit(X_test)\n",
    "    y_pred = np.reshape(y_pred, y_test.shape)\n",
    "    accuracy = accuracy_score(y_test, y_pred)\n",
    "    print(\"The accuracy is:\", accuracy)\n",
    "    \n",
    "if __name__ == '__main__':\n",
    "    main()"
   ]
  },
  {
   "cell_type": "code",
   "execution_count": null,
   "metadata": {},
   "outputs": [],
   "source": []
  },
  {
   "cell_type": "code",
   "execution_count": null,
   "metadata": {},
   "outputs": [],
   "source": []
  }
 ],
 "metadata": {
  "kernelspec": {
   "display_name": "Python 3",
   "language": "python",
   "name": "python3"
  },
  "language_info": {
   "codemirror_mode": {
    "name": "ipython",
    "version": 3
   },
   "file_extension": ".py",
   "mimetype": "text/x-python",
   "name": "python",
   "nbconvert_exporter": "python",
   "pygments_lexer": "ipython3",
   "version": "3.7.3"
  }
 },
 "nbformat": 4,
 "nbformat_minor": 2
}

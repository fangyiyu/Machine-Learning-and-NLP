{
 "cells": [
  {
   "cell_type": "code",
   "execution_count": 1,
   "metadata": {},
   "outputs": [],
   "source": [
    "import numpy as np\n",
    "arr = np.array([[1,2,3,4],[4,5,6,7],[3,6,9,6]])\n",
    "y = np.array([1,2,2])\n",
    "y_pre = np.array([1,3,2])"
   ]
  },
  {
   "cell_type": "code",
   "execution_count": 2,
   "metadata": {},
   "outputs": [
    {
     "name": "stdout",
     "output_type": "stream",
     "text": [
      "[[-1 -1 -1 -1]\n",
      " [ 1  0  0  1]\n",
      " [ 0  0  1  0]]\n"
     ]
    }
   ],
   "source": [
    "\"Standardize the dataset\"\n",
    "def standardize(X):\n",
    "    mean = np.mean(X, axis = 0)\n",
    "    std = np.std(X, axis = 0)\n",
    "    res = X\n",
    "    for col in range(X.shape[1]):\n",
    "        if std[col]:\n",
    "            res[:,col] = (X[:, col]-mean[col])/std[col]\n",
    "    return res\n",
    "\n",
    "print(standardize(arr))"
   ]
  },
  {
   "cell_type": "code",
   "execution_count": 3,
   "metadata": {},
   "outputs": [
    {
     "name": "stdout",
     "output_type": "stream",
     "text": [
      "[[0 0 0 0]\n",
      " [2 1 1 2]\n",
      " [0 0 1 0]]\n"
     ]
    }
   ],
   "source": [
    "\"Normalize the dataset\"\n",
    "def normalize(X):\n",
    "    res = X\n",
    "    a = np.min(X, axis = 0)\n",
    "    b = np.max(X, axis = 0)\n",
    "    for row in range(X.shape[0]):\n",
    "        if b[row]>a[row]:\n",
    "            res[row, :] = (X[row, :]-a[row])/(b[row]-a[row])\n",
    "    return res\n",
    "\n",
    "print(normalize(arr))"
   ]
  },
  {
   "cell_type": "code",
   "execution_count": 4,
   "metadata": {},
   "outputs": [
    {
     "name": "stdout",
     "output_type": "stream",
     "text": [
      "0.9182958340544896\n"
     ]
    }
   ],
   "source": [
    "import math\n",
    "import collections\n",
    "\"Calculate the entropy of label array y\"\n",
    "def entropy(y):\n",
    "    entropy = 0\n",
    "    values = collections.Counter(y).values()\n",
    "    for v in values:\n",
    "        p = v/sum(values)\n",
    "        entropy += -p*math.log2(p)\n",
    "    return entropy\n",
    "\n",
    "print(entropy(y)) "
   ]
  },
  {
   "cell_type": "code",
   "execution_count": 5,
   "metadata": {},
   "outputs": [
    {
     "data": {
      "text/plain": [
       "0.3333333333333333"
      ]
     },
     "execution_count": 5,
     "metadata": {},
     "output_type": "execute_result"
    }
   ],
   "source": [
    "\"Calculate the MSE between the actual value and the prediction\"\n",
    "def mean_squared_error(y, y_pre):\n",
    "    return sum((y-y_pre)**2)/len(y)\n",
    "\n",
    "mean_squared_error(y,y_pre)"
   ]
  },
  {
   "cell_type": "code",
   "execution_count": 6,
   "metadata": {},
   "outputs": [
    {
     "data": {
      "text/plain": [
       "array([0.88888889, 0.22222222, 0.22222222, 0.88888889])"
      ]
     },
     "execution_count": 6,
     "metadata": {},
     "output_type": "execute_result"
    }
   ],
   "source": [
    "\"Calculate the variance based on features of a dataset X\"\n",
    "def variance(X):\n",
    "    mean = np.ones(np.shape(arr))*np.mean(arr,axis=0)\n",
    "    n = X.shape[0]\n",
    "    variance = (1/n)*np.diag((X-mean).T.dot(X-mean))\n",
    "    return variance\n",
    "\n",
    "variance(arr)"
   ]
  },
  {
   "cell_type": "code",
   "execution_count": 7,
   "metadata": {},
   "outputs": [
    {
     "data": {
      "text/plain": [
       "array([0.94280904, 0.47140452, 0.47140452, 0.94280904])"
      ]
     },
     "execution_count": 7,
     "metadata": {},
     "output_type": "execute_result"
    }
   ],
   "source": [
    "\"Calculate the standard deviation based on features of a dataset X\"\n",
    "def std_dev(X):\n",
    "    return np.sqrt(variance(X))\n",
    "\n",
    "std_dev(arr)"
   ]
  },
  {
   "cell_type": "code",
   "execution_count": 8,
   "metadata": {},
   "outputs": [
    {
     "data": {
      "text/plain": [
       "1.0"
      ]
     },
     "execution_count": 8,
     "metadata": {},
     "output_type": "execute_result"
    }
   ],
   "source": [
    "\"Calculate the euclidean distance between two vectors\"\n",
    "def euclidean_distance(x1, x2):\n",
    "    d = 0\n",
    "    for i in range(len(x1)):\n",
    "        d += (x1[i] - x2[i])**2\n",
    "    return np.sqrt(d)\n",
    "\n",
    "euclidean_distance(y,y_pre) "
   ]
  },
  {
   "cell_type": "code",
   "execution_count": 9,
   "metadata": {},
   "outputs": [
    {
     "data": {
      "text/plain": [
       "0.6666666666666666"
      ]
     },
     "execution_count": 9,
     "metadata": {},
     "output_type": "execute_result"
    }
   ],
   "source": [
    "\"Compare the prediction with actual value and return the accuracy in classification problems\"\n",
    "def accuracy(y, y_pre):\n",
    "    return sum(y==y_pre)/len(y)\n",
    "\n",
    "accuracy(y,y_pre)"
   ]
  },
  {
   "cell_type": "code",
   "execution_count": null,
   "metadata": {},
   "outputs": [],
   "source": []
  }
 ],
 "metadata": {
  "kernelspec": {
   "display_name": "Python 3",
   "language": "python",
   "name": "python3"
  },
  "language_info": {
   "codemirror_mode": {
    "name": "ipython",
    "version": 3
   },
   "file_extension": ".py",
   "mimetype": "text/x-python",
   "name": "python",
   "nbconvert_exporter": "python",
   "pygments_lexer": "ipython3",
   "version": "3.7.3"
  }
 },
 "nbformat": 4,
 "nbformat_minor": 2
}

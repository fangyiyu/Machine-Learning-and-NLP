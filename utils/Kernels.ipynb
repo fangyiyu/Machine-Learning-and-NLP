{
 "cells": [
  {
   "cell_type": "code",
   "execution_count": 1,
   "metadata": {},
   "outputs": [],
   "source": [
    "\"The linear kernel in SVM\"\n",
    "import numpy as np\n",
    "def linear_kernel(**kwarg):\n",
    "    def f(x1, x2):\n",
    "        return np.inner(x1, x2)\n",
    "    return f  "
   ]
  },
  {
   "cell_type": "code",
   "execution_count": 2,
   "metadata": {},
   "outputs": [],
   "source": [
    "\"The polynomial kernel in SVM\"\n",
    "def polynomial_kernel(bias, degree,**kwarg):\n",
    "    def f(x1, x2):\n",
    "        return (np.inner(x1, x2)+bias)**degree\n",
    "    return f"
   ]
  },
  {
   "cell_type": "code",
   "execution_count": 3,
   "metadata": {},
   "outputs": [],
   "source": [
    "\"The RBF kernel in SVM\"\n",
    "def RBF_kernel(gamma, **kwarg):\n",
    "    def f(x1, x2):\n",
    "        distance = np.linalg.norm(x1-x2)**2\n",
    "        return np.exp(-gamma*distance)\n",
    "    return f      "
   ]
  },
  {
   "cell_type": "code",
   "execution_count": null,
   "metadata": {},
   "outputs": [],
   "source": []
  }
 ],
 "metadata": {
  "kernelspec": {
   "display_name": "Python 3",
   "language": "python",
   "name": "python3"
  },
  "language_info": {
   "codemirror_mode": {
    "name": "ipython",
    "version": 3
   },
   "file_extension": ".py",
   "mimetype": "text/x-python",
   "name": "python",
   "nbconvert_exporter": "python",
   "pygments_lexer": "ipython3",
   "version": "3.7.3"
  }
 },
 "nbformat": 4,
 "nbformat_minor": 2
}

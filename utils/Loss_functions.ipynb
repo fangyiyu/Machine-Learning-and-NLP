{
 "cells": [
  {
   "cell_type": "code",
   "execution_count": 1,
   "metadata": {},
   "outputs": [],
   "source": [
    "\"Logloss for Logistic Regression, also called cross_entropy\"\n",
    "import numpy as np\n",
    "from math import log\n",
    "def logloss(y, y_pred):\n",
    "    if y == 1:\n",
    "        return -log(y_pred)\n",
    "    else:\n",
    "        return -log(1-y_pred)"
   ]
  },
  {
   "cell_type": "code",
   "execution_count": 12,
   "metadata": {},
   "outputs": [],
   "source": [
    "\"Hingloss for SVM\"\n",
    "def hingeloss(y, y_pred):\n",
    "    return max(0, 1-np.inner(y,y_pred))"
   ]
  },
  {
   "cell_type": "code",
   "execution_count": 3,
   "metadata": {},
   "outputs": [],
   "source": [
    "\"MAE for regression, also called L1 loss\"\n",
    "def MAE(y, y_pred):\n",
    "    return sum(np.absolute(y-y_pred))"
   ]
  },
  {
   "cell_type": "code",
   "execution_count": 16,
   "metadata": {},
   "outputs": [],
   "source": [
    "\"MSE for regression, also called L2 loss\"\n",
    "def MSE(y, y_pred):\n",
    "    return sum((y-y_pred)**2)/len(y)"
   ]
  },
  {
   "cell_type": "code",
   "execution_count": null,
   "metadata": {},
   "outputs": [],
   "source": []
  }
 ],
 "metadata": {
  "kernelspec": {
   "display_name": "Python 3",
   "language": "python",
   "name": "python3"
  },
  "language_info": {
   "codemirror_mode": {
    "name": "ipython",
    "version": 3
   },
   "file_extension": ".py",
   "mimetype": "text/x-python",
   "name": "python",
   "nbconvert_exporter": "python",
   "pygments_lexer": "ipython3",
   "version": "3.7.3"
  }
 },
 "nbformat": 4,
 "nbformat_minor": 2
}
